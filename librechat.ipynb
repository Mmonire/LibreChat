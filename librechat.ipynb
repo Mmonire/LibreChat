{
 "cells": [
  {
   "cell_type": "markdown",
   "metadata": {},
   "source": [
    "# LibreChat"
   ]
  },
  {
   "cell_type": "markdown",
   "metadata": {},
   "source": [
    "## Loading Data"
   ]
  },
  {
   "cell_type": "markdown",
   "metadata": {},
   "source": [
    "### PDF File"
   ]
  },
  {
   "cell_type": "code",
   "execution_count": 1,
   "metadata": {},
   "outputs": [
    {
     "name": "stderr",
     "output_type": "stream",
     "text": [
      "/opt/homebrew/Caskroom/miniforge/base/envs/env4/lib/python3.9/site-packages/pypdfium2/_helpers/textpage.py:80: UserWarning: get_text_range() call with default params will be implicitly redirected to get_text_bounded()\n",
      "  warnings.warn(\"get_text_range() call with default params will be implicitly redirected to get_text_bounded()\")\n"
     ]
    }
   ],
   "source": [
    "# Install langchain-community and pypdfium2 packages\n",
    "from langchain_community.document_loaders import PyPDFium2Loader\n",
    "\n",
    "pdf_path = \"data/justforfun_persian.pdf\"\n",
    "pdf_loader = PyPDFium2Loader(pdf_path)\n",
    "pdf_docs = pdf_loader.load()"
   ]
  },
  {
   "cell_type": "code",
   "execution_count": 3,
   "metadata": {},
   "outputs": [
    {
     "name": "stdout",
     "output_type": "stream",
     "text": [
      "Number of pages (loaded Document objects): 204\n"
     ]
    }
   ],
   "source": [
    "print(\"Number of pages (loaded Document objects):\", len(pdf_docs))"
   ]
  },
  {
   "cell_type": "code",
   "execution_count": 6,
   "metadata": {},
   "outputs": [
    {
     "name": "stdout",
     "output_type": "stream",
     "text": [
      "تولد یͷ نرد، بخش دوم صفحۀ ١١\n",
      "و او مͬ خواست من را هم در این تجربه شریͷ کند. همچنین مͬ خواست من را به ریاضͬ\n",
      "علاقمند کند.\n",
      "پس من را روی زانو هایش مͬ نشاند و از من مͬ خواست تا برنامه هایی که با دقت روی کاغذ\n",
      "نوشته بود را برایش تایپ کنم. مͬ گفت خودش با کامپیوترها راحت نیست. نمͬ دانم آن محاسبات\n",
      "راجع به چه چیزی بودند و بعید مͬ دانم که آن موقع هیچ درکͬ از کاری که مͬ کردم هم داشته باشم\n",
      "ولͬ به هرحال آنجا بودم و به او کمͷ مͬ کردم. احتمالا کار از حالتͬ که او خودش به تنهایی\n",
      "برنامه ها را وارد مͬ کرد، خیلͬ بیشتر طول مͬ کشید. ولͬ کسͬ چه مͬ داند؟ من از همان کودکͬ به\n",
      "صفحه کلید عادت کرده بودم، چیزی که پدربزرگم هیچ وقت امͺان اش را نداشت. بعد از مدرسه\n",
      "یا هر موقع دیͽری که مادرم من را پیش پدربزرگم مͬ گذاشت، مشغول همین کار مͬ شدیم.\n",
      "بعد شروع کردم به خواندن راهنماهای کامپیوتر و وارد کردن برنامه های آماده شده. مثال ها\n",
      "شامل بازی های ساده ای بودند که خودتان مͬ توانستید آن ها را وارد کنید. اگر همه چیز را درست\n",
      "تایپ مͬ کردید، یͷ آقایی با گرافیͷ بد، روی صفحه راه مͬ رفت. بعد مͬ توانستید برنامه را عوض\n",
      "کنید تا آقای راه رونده، رنگش عوض شود. شما خودتان مͬ توانستید این کار را بͺنید.\n",
      "این بالاترین لذت بود.\n",
      "شروع کردم به نوشتن برنامه های خودم. اولین برنامه ای که نوشتم، اولین برنامه ای بود که هر\n",
      "کسͬ مͬ نویسد:\n",
      "10 PRINT \"HELLO\"\n",
      "20 GOTO 10\n",
      "این برنامه دقیقا همان کاری را مͬ کند که انتظار دارید بͺند. روی صفحه مͬ نویسد “سلام” و\n",
      "تا ابد به این کار ادامه مͬ دهد. یا حداقل تا وقتͬ که شما از شدت سر رفتن حوصله تان، برنامه را\n",
      "قطع کنید.\n",
      "اما این قدم اول است. بعضͬ ها همین جا متوقف مͬ شوند.برای آن ها این برنامه احمقانه ای\n",
      "است چون “چرا باید کسͬ علاقمند باشد به میلیون ها کلمه ‘سلام’ خیره شود؟” اما به هرحال این\n",
      "برنامه تقریبا همیشه اولین برنامه در راهنماهایی بود که آن روزها همراه کامپیوترهای شخصͬ داده\n",
      "مͬ شدند.\n",
      "نکته جادویی اینجا است که شما مͬ توانید این برنامه را تغییر دهید. خواهرم مͬ گوید که من\n",
      "یͷ تغییر ریشه ای در برنامه دادم تا نسخه دومͬ بسازم که به جای نوشتن “سلام”، روی صفحه\n",
      "بارها و بارها مͬ نوشت “سارا بهترین است.” در کل من برادر بزرگ تر مهربانͬ نبودم ولͬ این ژست\n",
      "برنامه نویس،ͬ تاثیر زیادی روی خواهرم گذاشت.\n",
      "من این جریان را یادم نیست. هر بار که یͷ برنامه مͬ نوشتم، آن را فراموش مͬ کردم و سراغ\n",
      "برنامه بعدی مͬ رفتم.\n",
      "\n"
     ]
    }
   ],
   "source": [
    "# Take a look at a random page of the document \n",
    "print(pdf_docs[15].page_content)"
   ]
  },
  {
   "cell_type": "code",
   "execution_count": 7,
   "metadata": {},
   "outputs": [
    {
     "name": "stdout",
     "output_type": "stream",
     "text": [
      "Processed documents loaded successfully!\n",
      "‮تولد یک نرد، بخش دوم صفحۀ ١١\n",
      "و او می خواست من را هم در این تجربه شریک کند. همچنین می خواست من را به ریاضی \n",
      "علاقمند کند.\n",
      "پس من را روی زانو هایش می نشاند و از من می خواست تا برنامه هایی که با دقت روی کاغذ\n",
      "نوشته بود را برایش تایپ کنم. می گفت خودش با کامپیوترها راحت نیست. نمی دانم آن محاسبات\n",
      "راجع به چه چیزی بودند و بعید می دانم که آن موقع هیچ درکی از کاری که می کردم هم داشته باشم\n",
      "ولی به هرحال آنجا بودم و به او کمک می کردم. احتمالا کار از حالتی که او خودش به تنهایی\n",
      "برنامه ها را وارد می کرد، خیلی بیشتر طول می کشید. ولی کسی چه می داند؟ من از همان کودکی به\n",
      "صفحه کلید عادت کرده بودم، چیزی که پدربزرگم هیچ وقت امͺان اش را نداشت. بعد از مدرسه\n",
      "یا هر موقع دیͽری که مادرم من را پیش پدربزرگم می گذاشت، مشغول همین کار می شدیم.\n",
      "بعد شروع کردم به خواندن راهنماهای کامپیوتر و وارد کردن برنامه های آماده شده. مثال ها\n",
      "شامل بازی های ساده ای بودند که خودتان می توانستید آن ها را وارد کنید. اگر همه چیز را درست\n",
      "تایپ می کردید، یک آقایی با گرافیک بد، روی صفحه راه می رفت. بعد می توانستید برنامه را عوض\n",
      "کنید تا آقای راه رونده، رنگش عوض شود. شما خودتان می توانستید این کار را بͺنید.\n",
      "این بالاترین لذت بود.\n",
      "شروع کردم به نوشتن برنامه های خودم. اولین برنامه ای که نوشتم، اولین برنامه ای بود که هر\n",
      "کسی می نویسد:\n",
      "10 PRINT \"HELLO\"\n",
      "20 GOTO 10\n",
      "این برنامه دقیقا همان کاری را می کند که انتظار دارید بͺند. روی صفحه می نویسد “سلام” و\n",
      "تا ابد به این کار ادامه می دهد. یا حداقل تا وقتی که شما از شدت سر رفتن حوصله تان، برنامه را\n",
      "قطع کنید.\n",
      "اما این قدم اول است. بعضی ها همین جا متوقف می شوند.برای آن ها این برنامه احمقانه ای\n",
      "است چون “چرا باید کسی علاقمند باشد به میلیون ها کلمه ‘سلام’ خیره شود؟” اما به هرحال این\n",
      "برنامه تقریبا همیشه اولین برنامه در راهنماهایی بود که آن روزها همراه کامپیوترهای شخصی داده\n",
      "می شدند.\n",
      "نکته جادویی اینجا است که شما می توانید این برنامه را تغییر دهید. خواهرم می گوید که من\n",
      "یک تغییر ریشه ای در برنامه دادم تا نسخه دومی بسازم که به جای نوشتن “سلام”، روی صفحه\n",
      "بارها و بارها می نوشت “سارا بهترین است.” در کل من برادر بزرگ تر مهربانی نبودم ولی این ژست\n",
      "برنامه نویس،ی تاثیر زیادی روی خواهرم گذاشت.\n",
      "من این جریان را یادم نیست. هر بار که یک برنامه می نوشتم، آن را فراموش می کردم و سراغ\n",
      "برنامه بعدی می رفتم.\n",
      "\n"
     ]
    }
   ],
   "source": [
    "# Apply any necessary preprocessing to the document pages\n",
    "import json\n",
    "\n",
    "# Load processed_docs from JSON\n",
    "with open(\"processed_docs.json\", \"r\", encoding=\"utf-8\") as f:\n",
    "    processed_docs = json.load(f)\n",
    "\n",
    "print(\"Processed documents loaded successfully!\")\n",
    "print(processed_docs[15])  # Example of accessing a page"
   ]
  },
  {
   "cell_type": "markdown",
   "metadata": {},
   "source": [
    "### Web Link"
   ]
  },
  {
   "cell_type": "code",
   "execution_count": 8,
   "metadata": {},
   "outputs": [
    {
     "name": "stderr",
     "output_type": "stream",
     "text": [
      "USER_AGENT environment variable not set, consider setting it to identify your requests.\n"
     ]
    }
   ],
   "source": [
    "from langchain_community.document_loaders import WebBaseLoader\n",
    "\n",
    "loader = WebBaseLoader(\"https://linuxbook.ir/all.html\")\n",
    "web_docs = loader.load()"
   ]
  },
  {
   "cell_type": "code",
   "execution_count": 9,
   "metadata": {},
   "outputs": [
    {
     "name": "stdout",
     "output_type": "stream",
     "text": [
      "\n",
      "\n",
      "\n",
      "\n",
      "\n",
      "\n",
      "لینوکس و زندگی | لینوکس و زندگی\n",
      "\n",
      "\n",
      "\n",
      "\n",
      "\n",
      "\n",
      "\n",
      "\n",
      "\n",
      "\n",
      "Toggle navigation\n",
      "\n",
      "\n",
      "\n",
      "\n",
      "لینوکس و زندگی\n",
      "\n",
      "\n",
      "\n",
      "روی جلد\n",
      "درباره\n",
      "دانلود\n",
      "حمایت\n",
      "\n",
      "\n",
      "\n",
      "\n",
      "\n",
      "\n",
      "\n",
      "\n",
      "\n",
      "\n",
      "\n",
      "\n",
      "\n",
      "لینوکس و زندگی\n",
      "\n",
      "\n",
      "فهرست \n",
      "لینوکس و زندگی. نوشته جادی www.jadi.netبرای دسترسی به آخرین نسخه کتاب در فرمت‌های مختلف و همچنین حمایت مالی از پروژه کتاب‌هایی برای گیک‌ها، به سایت www.jadi.ir و بخش حمایت مراجعه کنید.درباره این کتاب \n",
      "این کتاب سعی می کنه به خواننده ایده‌هایی درمورد زندگی و لینوکس بده. چرا زندگی؟ چون لینوکس یک فلسفه است و براومده از یک جامعه و کسی که می خواد توش موفق باشه با\n"
     ]
    }
   ],
   "source": [
    "# Look at the first 512 characters of the page content\n",
    "print(web_docs[0].page_content[:512])"
   ]
  },
  {
   "cell_type": "markdown",
   "metadata": {},
   "source": [
    "### Wikipedia Pages"
   ]
  },
  {
   "cell_type": "code",
   "execution_count": 10,
   "metadata": {},
   "outputs": [
    {
     "name": "stdout",
     "output_type": "stream",
     "text": [
      "Loaded page: ریچارد استالمن\n",
      "Loaded page: لینوس توروالدز\n",
      "Loaded page: لینوکس\n",
      "Loaded page: پروژه گنو\n",
      "Loaded page: نرم‌افزار آزاد\n",
      "Loaded page: بنیاد نرم‌افزار آزاد\n"
     ]
    }
   ],
   "source": [
    "from langchain_community.document_loaders import WikipediaLoader\n",
    "import time, random\n",
    "\n",
    "wiki_titles = ['ریچارد استالمن', 'لینوس توروالدز', 'لینوکس', 'پروژه گنو', 'نرم‌افزار آزاد', 'بنیاد نرم‌افزار آزاد']\n",
    "wiki_docs = []\n",
    "\n",
    "for title in wiki_titles:\n",
    "    loader = WikipediaLoader(query=title, lang=\"fa\", load_max_docs=1)\n",
    "    docs = loader.load()\n",
    "    wiki_docs.extend(docs)\n",
    "    print(f\"Loaded page: {title}\")\n",
    "    time.sleep(random.uniform(1, 3))"
   ]
  },
  {
   "cell_type": "code",
   "execution_count": 11,
   "metadata": {},
   "outputs": [
    {
     "name": "stdout",
     "output_type": "stream",
     "text": [
      "Number of wikipedia pages (loaded Document objects): 6\n"
     ]
    }
   ],
   "source": [
    "print(\"Number of wikipedia pages (loaded Document objects):\", len(wiki_docs))"
   ]
  },
  {
   "cell_type": "markdown",
   "metadata": {},
   "source": [
    "### HTML Files"
   ]
  },
  {
   "cell_type": "code",
   "execution_count": 12,
   "metadata": {},
   "outputs": [
    {
     "name": "stderr",
     "output_type": "stream",
     "text": [
      "/opt/homebrew/Caskroom/miniforge/base/envs/env4/lib/python3.9/site-packages/langchain_community/document_loaders/html_bs.py:126: XMLParsedAsHTMLWarning: It looks like you're parsing an XML document using an HTML parser. If this really is an HTML document (maybe it's XHTML?), you can ignore or filter this warning. If it's XML, you should know that using an XML parser will be more reliable. To parse this document as XML, make sure you have the lxml package installed, and pass the keyword argument `features=\"xml\"` into the BeautifulSoup constructor.\n",
      "  soup = BeautifulSoup(f, **self.bs_kwargs)\n"
     ]
    }
   ],
   "source": [
    "from langchain_community.document_loaders import DirectoryLoader\n",
    "from langchain_community.document_loaders import BSHTMLLoader\n",
    "\n",
    "path_to_html_files = \"data/html/\"\n",
    "loader = DirectoryLoader(path_to_html_files, glob=\"*.html\", loader_cls=BSHTMLLoader)\n",
    "html_docs = loader.load()"
   ]
  },
  {
   "cell_type": "code",
   "execution_count": 13,
   "metadata": {},
   "outputs": [
    {
     "name": "stdout",
     "output_type": "stream",
     "text": [
      "Number of pages (loaded Document objects): 179\n"
     ]
    }
   ],
   "source": [
    "print(\"Number of pages (loaded Document objects):\", len(html_docs))"
   ]
  },
  {
   "cell_type": "markdown",
   "metadata": {},
   "source": [
    "## Document Splitting"
   ]
  },
  {
   "cell_type": "code",
   "execution_count": 24,
   "metadata": {},
   "outputs": [
    {
     "name": "stdout",
     "output_type": "stream",
     "text": [
      "The number of splitted documents: 5791\n"
     ]
    }
   ],
   "source": [
    "from langchain.text_splitter import RecursiveCharacterTextSplitter\n",
    "from langchain.schema import Document \n",
    "\n",
    "processed_docs_list =  [Document(page_content=text) for text in processed_docs] if isinstance(processed_docs, list) else []\n",
    "\n",
    "all_docs = wiki_docs + html_docs + processed_docs_list\n",
    "\n",
    "text_splitter = RecursiveCharacterTextSplitter(chunk_size=500, chunk_overlap=50)\n",
    "\n",
    "splitted_docs = text_splitter.split_documents(all_docs) \n",
    "\n",
    "print('The number of splitted documents:', len(splitted_docs))"
   ]
  },
  {
   "cell_type": "code",
   "execution_count": 25,
   "metadata": {},
   "outputs": [
    {
     "name": "stdout",
     "output_type": "stream",
     "text": [
      "Documents saved successfully.\n"
     ]
    }
   ],
   "source": [
    "import json\n",
    "from langchain.schema import Document\n",
    "\n",
    "splitted_docs_data = [\n",
    "    {\"page_content\": doc.page_content, \"metadata\": doc.metadata} for doc in splitted_docs\n",
    "]\n",
    "\n",
    "# Save to a JSON file\n",
    "with open(\"splitted_docs.json\", \"w\", encoding=\"utf-8\") as f:\n",
    "    json.dump(splitted_docs_data, f, ensure_ascii=False, indent=4)\n",
    "\n",
    "print(\"Documents saved successfully.\")"
   ]
  },
  {
   "cell_type": "code",
   "execution_count": 26,
   "metadata": {},
   "outputs": [
    {
     "name": "stdout",
     "output_type": "stream",
     "text": [
      "Loaded 5791 documents successfully.\n"
     ]
    }
   ],
   "source": [
    "with open(\"splitted_docs.json\", \"r\", encoding=\"utf-8\") as f:\n",
    "    loaded_data = json.load(f)\n",
    "\n",
    "# Convert back to Document objects\n",
    "loaded_splitted_docs = [Document(page_content=item[\"page_content\"], metadata=item[\"metadata\"]) for item in loaded_data]\n",
    "\n",
    "print(f\"Loaded {len(loaded_splitted_docs)} documents successfully.\")"
   ]
  },
  {
   "cell_type": "markdown",
   "metadata": {},
   "source": [
    "## Embedding and Vector Store"
   ]
  },
  {
   "cell_type": "code",
   "execution_count": 27,
   "metadata": {},
   "outputs": [],
   "source": [
    "import getpass\n",
    "import os\n",
    "from langchain_cohere import ChatCohere\n",
    "from langchain_core.prompts import ChatPromptTemplate\n",
    "from langchain_core.prompts import FewShotChatMessagePromptTemplate\n",
    "\n",
    "os.environ[\"COHERE_API_KEY\"] = getpass.getpass()"
   ]
  },
  {
   "cell_type": "code",
   "execution_count": 29,
   "metadata": {},
   "outputs": [],
   "source": [
    "from langchain_cohere import CohereEmbeddings\n",
    "from langchain.vectorstores import Chroma\n",
    "\n",
    "embeddings = CohereEmbeddings(\n",
    "    model = \"embed-multilingual-light-v3.0\"\n",
    ")\n",
    "\n",
    "vector_store = Chroma.from_documents(\n",
    "    documents = loaded_splitted_docs,\n",
    "    embedding = embeddings, \n",
    "    collection_name = \"Linux_history_collection\",\n",
    "    persist_directory = \"./vec_store_chroma\",\n",
    ")"
   ]
  },
  {
   "cell_type": "markdown",
   "metadata": {},
   "source": [
    "## Question-Answering Model"
   ]
  },
  {
   "cell_type": "code",
   "execution_count": null,
   "metadata": {},
   "outputs": [],
   "source": [
    "import json\n",
    "from langchain_cohere import ChatCohere\n",
    "from langchain_core.prompts import ChatPromptTemplate\n",
    "from langchain.chains import create_retrieval_chain\n",
    "from langchain.chains.combine_documents import create_stuff_documents_chain\n",
    "from langchain.retrievers.document_compressors import CohereRerank\n",
    "from langchain.retrievers import ContextualCompressionRetriever\n",
    "\n",
    "examples = [\n",
    "    {\"input\": \"پرسش ۱: اولین سیستم‌عامل یونیکس چه بود؟\", \"question_number\": 1, \"answer\": \"UNIX\"},\n",
    "    {\"input\": \"پرسش ۲: بنیان‌گذار نرم‌افزار آزاد چه کسی است؟\", \"question_number\": 2, \"answer\": \"ریچارد استالمن\"},\n",
    "    {\"input\": \"پرسش ۳: زبان برنامه‌نویسی پایتون توسط چه کسی توسعه یافت؟\", \"question_number\": 3, \"answer\": \"خیدو فان روسوم\"},\n",
    "    {\"input\": \"پرسش ۴: بزرگترین پلتفرم یادگیری آنلاین فارسی چیست؟\", \"question_number\": 4, \"answer\": \"کوئرا\"}\n",
    "]\n",
    "examples_str_que = \"\\n\".join([ex[\"input\"] for ex in examples])\n",
    "examples_str_an = \"\\n\".join([json.dumps({\"question_number\": ex[\"question_number\"], \"answer\": ex[\"answer\"]}, ensure_ascii=False) for ex in examples])\n",
    "\n",
    "prompt_template = (\n",
    "    \"\"\"\n",
    "    نحوه و فرمت خروجی باید به‌صورت زیر باشد:\n",
    "        - پاسخ باید یک دیکشنری شامل دو کلید باشد:\n",
    "        - \"question_number\"=: شماره پرسش (int)\n",
    "        - \"answer\": پاسخ کوتاه (str) (حداکثر ۴ کلمه)\n",
    "    \n",
    "    مثال‌هایی از پرسش‌های ممکن:\n",
    "    {examples_que}\n",
    "\n",
    "    مثال‌هایی از فرمت صحیح پاسخ:\n",
    "    {examples_ans}\n",
    "\n",
    "    اطلاعات بازیابی‌شده از مخزن برداری:\n",
    "    {context}\n",
    "\n",
    "    سوال مطرح‌شده توسط کاربر كه شما بايد پاسخ دهيد و به فرمت خروجي جواب دهيد: \n",
    "    {question}\n",
    "\n",
    "    پاسخ را در قالب مشخص‌شده ارائه دهید. فقط دیکشنری نهایی را بازگردانید و هیچ متن اضافی اضافه نکنید.\n",
    "    \"\"\"\n",
    ")\n",
    "\n",
    "retriever = vector_store.as_retriever(\n",
    "    search_type=\"similarity\",\n",
    "    search_kwargs={\"k\": 50,}  \n",
    ")\n",
    "\n",
    "reranker = CohereRerank(\n",
    "    model=\"rerank-multilingual-v3.0\", \n",
    "    top_n= 20, \n",
    ")\n",
    "\n",
    "reranked_retriever = ContextualCompressionRetriever(\n",
    "    base_compressor=reranker,\n",
    "    base_retriever=retriever\n",
    ")\n",
    "\n",
    "llm = ChatCohere()\n",
    "\n",
    "def rag_chain(query):\n",
    "    \"\"\"\n",
    "    Takes a user query, retrieves relevant documents, and generates an AI response\n",
    "    following the correct format.\n",
    "    \"\"\"\n",
    "    retrieved_docs = reranked_retriever.get_relevant_documents(query)\n",
    "    context = \"\\n\".join([doc.page_content for doc in retrieved_docs])\n",
    "\n",
    "    formatted_prompt = prompt_template.format(\n",
    "    examples_que=examples_str_que,\n",
    "    examples_ans=examples_str_an,\n",
    "    context=context,\n",
    "    question=query\n",
    "    )\n",
    "\n",
    "    raw_response = llm.invoke(formatted_prompt)\n",
    "    parsed_response = json.loads(raw_response.content)\n",
    "\n",
    "    return parsed_response"
   ]
  },
  {
   "cell_type": "code",
   "execution_count": 90,
   "metadata": {},
   "outputs": [
    {
     "name": "stdout",
     "output_type": "stream",
     "text": [
      "{'question_number': 1, 'answer': 'بجرن استراستروپ'}\n"
     ]
    }
   ],
   "source": [
    "query = \"زبان برنامه‌نویسی C++ توسط چه کسی توسعه یافت؟\"\n",
    "response = rag_chain(query)\n",
    "\n",
    "print(response)"
   ]
  },
  {
   "cell_type": "code",
   "execution_count": 91,
   "metadata": {},
   "outputs": [
    {
     "name": "stdout",
     "output_type": "stream",
     "text": [
      "{'question_number': 1, 'answer': 'اینتل'}\n"
     ]
    }
   ],
   "source": [
    "query = \"پرسش ۱: توروالدز برای کار در چه موسسه‌ای دانشگاه هلسینکی را ترک گفت؟\"\n",
    "answer1 = rag_chain(query)\n",
    "print(answer1)"
   ]
  },
  {
   "cell_type": "code",
   "execution_count": 92,
   "metadata": {},
   "outputs": [
    {
     "name": "stdout",
     "output_type": "stream",
     "text": [
      "{'question_number': 2, 'answer': 'دانشگاه آمستردام'}\n"
     ]
    }
   ],
   "source": [
    "query = \"پرسش ۲: آندرو تاننباوم استاد کدام دانشگاه است؟\"\n",
    "answer2 = rag_chain(query)\n",
    "print(answer2)"
   ]
  },
  {
   "cell_type": "code",
   "execution_count": 93,
   "metadata": {},
   "outputs": [
    {
     "name": "stdout",
     "output_type": "stream",
     "text": [
      "{'question_number': 3, 'answer': '2 درصد'}\n"
     ]
    }
   ],
   "source": [
    "query = \"پرسش ۳: در سال ۲۰۰۶ چند درصد از هسته لینوکس توسط توروالدز نوشته شد (به عدد)؟\"\n",
    "answer3 = rag_chain(query)\n",
    "print(answer3)"
   ]
  },
  {
   "cell_type": "code",
   "execution_count": 94,
   "metadata": {},
   "outputs": [
    {
     "name": "stdout",
     "output_type": "stream",
     "text": [
      "{'question_number': 4, 'answer': 'ریچارد استالمن'}\n"
     ]
    }
   ],
   "source": [
    "query = \"پرسش ۴: چه کسی بنیاد نرم‌افزارهای آزاد را بنا نهاد؟\"\n",
    "answer4 = rag_chain(query)\n",
    "print(answer4)"
   ]
  },
  {
   "cell_type": "code",
   "execution_count": 95,
   "metadata": {},
   "outputs": [
    {
     "name": "stdout",
     "output_type": "stream",
     "text": [
      "{'question_number': 5, 'answer': 'وسچستر کانتی'}\n"
     ]
    }
   ],
   "source": [
    "query = \"پرسش ۵: ریچارد استالمن در ۲۱ سالگی در کدام شرکت کار می‌کرد؟\"\n",
    "answer5 = rag_chain(query)\n",
    "print(answer5)"
   ]
  },
  {
   "cell_type": "code",
   "execution_count": 96,
   "metadata": {},
   "outputs": [
    {
     "name": "stdout",
     "output_type": "stream",
     "text": [
      "{'question_number': 6, 'answer': 'زبان لیسپ'}\n"
     ]
    }
   ],
   "source": [
    "query = \"پرسش ۶: یکی از مشهورترین پروژه‌هایی که در ابتدا پروژه‌ی آزاد و آکادمیک بود اما بعد وارد محیط بسته‌ی تجاری شد چه بود؟\"\n",
    "answer6 = rag_chain(query)\n",
    "print(answer6)"
   ]
  },
  {
   "cell_type": "code",
   "execution_count": 97,
   "metadata": {},
   "outputs": [
    {
     "name": "stdout",
     "output_type": "stream",
     "text": [
      "{'question_number': 7, 'answer': 'چین'}\n"
     ]
    }
   ],
   "source": [
    "query = \"پرسش ۷: لینکدین در سانسور کردن حساب‌ها به درخواست چه کشوری مشهور است؟\"\n",
    "answer7 = rag_chain(query)\n",
    "print(answer7)"
   ]
  },
  {
   "cell_type": "code",
   "execution_count": 98,
   "metadata": {},
   "outputs": [
    {
     "name": "stdout",
     "output_type": "stream",
     "text": [
      "{'question_number': 8, 'answer': 'OpenStreetMap'}\n"
     ]
    }
   ],
   "source": [
    "query = \"پرسش ۸: ریچارد استالمن پیشنهاد می‌کند به‌جای گوگل مپ از چه سرویسی استفاده کنیم؟\"\n",
    "answer8 = rag_chain(query)\n",
    "print(answer8)"
   ]
  },
  {
   "cell_type": "code",
   "execution_count": 99,
   "metadata": {},
   "outputs": [
    {
     "name": "stdout",
     "output_type": "stream",
     "text": [
      "{'question_number': 9, 'answer': 'آزادی اجرا'}\n"
     ]
    }
   ],
   "source": [
    "query = \"پرسش ۹: آزادی صفرم در نرم‌افزار آزاد چه عنوانی دارد؟\"\n",
    "answer9 = rag_chain(query)\n",
    "print(answer9)"
   ]
  },
  {
   "cell_type": "code",
   "execution_count": 100,
   "metadata": {},
   "outputs": [
    {
     "name": "stdout",
     "output_type": "stream",
     "text": [
      "{'question_number': 10, 'answer': 'خیر'}\n"
     ]
    }
   ],
   "source": [
    "query = \"پرسش ۱۰: آیا یک نرم‌افزار آزاد لزوماً رایگان است (بله یا خیر)؟\"\n",
    "answer10 = rag_chain(query)\n",
    "print(answer10)"
   ]
  },
  {
   "cell_type": "code",
   "execution_count": 101,
   "metadata": {},
   "outputs": [
    {
     "name": "stdout",
     "output_type": "stream",
     "text": [
      "{'question_number': 11, 'answer': 'POSIX'}\n"
     ]
    }
   ],
   "source": [
    "query = \"پرسش ۱۱: استاندارد ناظر بر فایل‌ها و دایرکتوری‌ها به‌اختصار چه نامیده می‌شود؟\"\n",
    "answer11 = rag_chain(query)\n",
    "print(answer11)"
   ]
  },
  {
   "cell_type": "code",
   "execution_count": 102,
   "metadata": {},
   "outputs": [
    {
     "name": "stdout",
     "output_type": "stream",
     "text": [
      "{'question_number': 12, 'answer': 'عدم پاسخ'}\n"
     ]
    }
   ],
   "source": [
    "query = \"پرسش ۱۲: اولین ریپلای به ایمیل درخواست کار چیست؟\"\n",
    "answer12 = rag_chain(query)\n",
    "print(answer12)"
   ]
  },
  {
   "cell_type": "code",
   "execution_count": 103,
   "metadata": {},
   "outputs": [
    {
     "name": "stdout",
     "output_type": "stream",
     "text": [
      "{'question_number': 13, 'answer': 'بایاس اجتماعی'}\n"
     ]
    }
   ],
   "source": [
    "query = \"پرسش ۱۳: اگر امروز که از شنبه ورزش می‌کنم در واقع دچار چه بایاسی شده‌ایم؟\"\n",
    "answer13 = rag_chain(query)\n",
    "print(answer13)"
   ]
  },
  {
   "cell_type": "code",
   "execution_count": 104,
   "metadata": {},
   "outputs": [
    {
     "name": "stdout",
     "output_type": "stream",
     "text": [
      "{'question_number': 14, 'answer': 'برنامه\\u200cنویسی'}\n"
     ]
    }
   ],
   "source": [
    "query = \"پرسش ۱۴: دنبال یاد گرفتن کدوم یکی باشیم: برنامه‌نویسی یا دستور زبان یک زبان خاص؟\"\n",
    "answer14 = rag_chain(query)\n",
    "print(answer14)"
   ]
  },
  {
   "cell_type": "code",
   "execution_count": 105,
   "metadata": {},
   "outputs": [
    {
     "name": "stdout",
     "output_type": "stream",
     "text": [
      "{'question_number': 15, 'answer': 'فرصت\\u200cهای شغلی'}\n"
     ]
    }
   ],
   "source": [
    "query = \"پرسش ۱۵: اگه هدف‌مون اینه که بریم گوگل کار کنیم اول از همه چه‌چیزی رو سرچ کنیم؟\"\n",
    "answer15 = rag_chain(query)\n",
    "print(answer15)"
   ]
  },
  {
   "cell_type": "code",
   "execution_count": 106,
   "metadata": {},
   "outputs": [
    {
     "name": "stdout",
     "output_type": "stream",
     "text": [
      "{'question_number': 16, 'answer': 'کنجکاوی'}\n"
     ]
    }
   ],
   "source": [
    "query = \"پرسش ۱۶: در بیانیه‌ی هکرها گفته شده که جرم آن‌ها در یک کلمه چیست؟\"\n",
    "answer16 = rag_chain(query)\n",
    "print(answer16)"
   ]
  },
  {
   "cell_type": "markdown",
   "metadata": {},
   "source": [
    "## Generating Submission"
   ]
  },
  {
   "cell_type": "code",
   "execution_count": 107,
   "metadata": {},
   "outputs": [
    {
     "name": "stdout",
     "output_type": "stream",
     "text": [
      "File Paths:\n",
      "['answers.json', 'librechat.ipynb']\n"
     ]
    }
   ],
   "source": [
    "import zipfile\n",
    "import os\n",
    "import json\n",
    "\n",
    "# Make a list of the answers\n",
    "answers = [globals()[f'answer{i}'] for i in range(1, 17)]\n",
    "\n",
    "# Save the answers to a JSON file\n",
    "with open('answers.json', 'w') as f:\n",
    "    json.dump(answers, f, ensure_ascii=False, indent=4)\n",
    "\n",
    "notebook_path = 'librechat.ipynb'\n",
    "\n",
    "# Check if the notebook exists in the current directory and export it if it doesn't (for Colab)\n",
    "if not os.path.exists(os.path.join(os.getcwd(), notebook_path)):\n",
    "    %notebook -e librechat.ipynb\n",
    "\n",
    "# Compress the files into a zip archive\n",
    "def compress(file_names):\n",
    "    print(\"File Paths:\")\n",
    "    print(file_names)\n",
    "    compression = zipfile.ZIP_DEFLATED\n",
    "    with zipfile.ZipFile(\"result.zip\", mode=\"w\") as zf:\n",
    "        for file_name in file_names:\n",
    "            zf.write('./' + file_name, file_name, compress_type=compression)\n",
    "\n",
    "file_names = ['answers.json', notebook_path]\n",
    "compress(file_names)"
   ]
  }
 ],
 "metadata": {
  "kernelspec": {
   "display_name": "env4",
   "language": "python",
   "name": "python3"
  },
  "language_info": {
   "codemirror_mode": {
    "name": "ipython",
    "version": 3
   },
   "file_extension": ".py",
   "mimetype": "text/x-python",
   "name": "python",
   "nbconvert_exporter": "python",
   "pygments_lexer": "ipython3",
   "version": "3.9.21"
  }
 },
 "nbformat": 4,
 "nbformat_minor": 2
}